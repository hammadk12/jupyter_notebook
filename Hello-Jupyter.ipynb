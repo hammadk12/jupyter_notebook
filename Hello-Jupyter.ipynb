{
 "cells": [
  {
   "cell_type": "markdown",
   "id": "e92f7763-e858-47d2-b6bc-c2c63ccc064d",
   "metadata": {},
   "source": [
    "## Header 1"
   ]
  },
  {
   "cell_type": "code",
   "execution_count": 1,
   "id": "45750296-c154-4698-860c-3c35b3f84a3e",
   "metadata": {},
   "outputs": [],
   "source": [
    "## Header 2"
   ]
  },
  {
   "cell_type": "markdown",
   "id": "33705060-8274-4685-9091-a2481008471d",
   "metadata": {},
   "source": [
    "### Header 3"
   ]
  },
  {
   "cell_type": "markdown",
   "id": "61ebd44f-b4aa-41b7-949b-335a95f62a1d",
   "metadata": {},
   "source": [
    "$$\n",
    "f(x) = ax^2 + bx + c\n",
    "$$"
   ]
  },
  {
   "cell_type": "markdown",
   "id": "f3a87a1c-4c42-42e3-8d83-952e8421e089",
   "metadata": {},
   "source": [
    "`A`"
   ]
  },
  {
   "cell_type": "markdown",
   "id": "1d5f968d-b47b-493d-afab-3a5672ae70d1",
   "metadata": {},
   "source": []
  },
  {
   "cell_type": "code",
   "execution_count": null,
   "id": "bc69215e-96b7-4d12-acee-7ad8534f5dbd",
   "metadata": {},
   "outputs": [],
   "source": []
  }
 ],
 "metadata": {
  "kernelspec": {
   "display_name": "Python 3 (ipykernel)",
   "language": "python",
   "name": "python3"
  },
  "language_info": {
   "codemirror_mode": {
    "name": "ipython",
    "version": 3
   },
   "file_extension": ".py",
   "mimetype": "text/x-python",
   "name": "python",
   "nbconvert_exporter": "python",
   "pygments_lexer": "ipython3",
   "version": "3.11.5"
  }
 },
 "nbformat": 4,
 "nbformat_minor": 5
}
