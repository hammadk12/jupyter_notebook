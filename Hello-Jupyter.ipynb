{
 "cells": [
  {
   "cell_type": "markdown",
   "id": "a26a2a79-1192-446c-a4d3-94ade2241bf7",
   "metadata": {},
   "source": [
    "import pandas as pd"
   ]
  },
  {
   "cell_type": "markdown",
   "id": "ea3f44dc-6c2c-4ff1-b698-4c62b9918a59",
   "metadata": {},
   "source": [
    "melbourne_file_path = '../input/melbourne-housing-snapshot/melb_data.csv'"
   ]
  },
  {
   "cell_type": "markdown",
   "id": "b7dba15c-190b-4c56-a9ee-b8950a6ffb05",
   "metadata": {},
   "source": [
    "melbourne_data = pd.read_csv(melbourne_file_path)"
   ]
  },
  {
   "cell_type": "code",
   "execution_count": null,
   "id": "cd3c8cdc-bdb0-4d56-acf8-27f6efba806b",
   "metadata": {},
   "outputs": [],
   "source": []
  },
  {
   "cell_type": "markdown",
   "id": "6f5fa7da-bf46-47a5-a9ee-b4ffaf2d19d6",
   "metadata": {},
   "source": [
    "melbourne_data.describe()"
   ]
  }
 ],
 "metadata": {
  "kernelspec": {
   "display_name": "Python 3 (ipykernel)",
   "language": "python",
   "name": "python3"
  },
  "language_info": {
   "codemirror_mode": {
    "name": "ipython",
    "version": 3
   },
   "file_extension": ".py",
   "mimetype": "text/x-python",
   "name": "python",
   "nbconvert_exporter": "python",
   "pygments_lexer": "ipython3",
   "version": "3.11.5"
  }
 },
 "nbformat": 4,
 "nbformat_minor": 5
}
